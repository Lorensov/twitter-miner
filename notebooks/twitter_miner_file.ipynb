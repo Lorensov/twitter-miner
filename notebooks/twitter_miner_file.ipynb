{
 "cells": [
  {
   "cell_type": "markdown",
   "metadata": {},
   "source": [
    "# Twitter Miner Notebook with File Handling"
   ]
  },
  {
   "cell_type": "markdown",
   "metadata": {},
   "source": [
    "### Setting environment variables"
   ]
  },
  {
   "cell_type": "code",
   "execution_count": null,
   "metadata": {},
   "outputs": [],
   "source": [
    "from dotenv import load_dotenv\n",
    "load_dotenv()\n",
    "\n",
    "# OAuth keys\n",
    "CONSUMER_KEY = os.environ.get('CONSUMER_KEY')\n",
    "CONSUMER_SECRET = os.environ.get('CONSUMER_SECRET')\n",
    "ACCESS_TOKEN = os.environ.get('ACCESS_TOKEN')\n",
    "ACCESS_TOKEN_SECRET = os.environ.get('ACCESS_TOKEN_SECRET')\n"
   ]
  },
  {
   "cell_type": "markdown",
   "metadata": {},
   "source": [
    "### Defining Keywords"
   ]
  },
  {
   "cell_type": "code",
   "execution_count": null,
   "metadata": {},
   "outputs": [],
   "source": [
    "keywords = ['bieber']"
   ]
  },
  {
   "cell_type": "markdown",
   "metadata": {},
   "source": [
    "### Defining a timer function for the thread"
   ]
  },
  {
   "cell_type": "code",
   "execution_count": null,
   "metadata": {},
   "outputs": [],
   "source": [
    "import threading\n",
    "import sys\n",
    "import os\n",
    "import time\n",
    "\n",
    "def count_time( threadName, delay, limit):\n",
    "    count = 0\n",
    "    while count < limit:\n",
    "        time.sleep(delay)\n",
    "        count += 1\n",
    "        print (\"%s: %s\" % ( threadName, time.ctime(time.time()) )  )\n",
    "    print('finished ', threadName)\n",
    "    #os._exit(0)"
   ]
  },
  {
   "cell_type": "markdown",
   "metadata": {},
   "source": [
    "### Creating class for the Streaming"
   ]
  },
  {
   "cell_type": "code",
   "execution_count": null,
   "metadata": {},
   "outputs": [],
   "source": [
    "class TwitterListener(StreamListener):\n",
    "    def __init__(self):\n",
    "        super().__init__()\n",
    "        self.counter = 0\n",
    "        self.limit = 100\n",
    "        \n",
    "        #using multithread on the object construction\n",
    "        #threading.Thread(target = count_time,\n",
    "            #args= (\"Time Counter\", 1, 5)\n",
    "        #).start()\n",
    "        \n",
    "    def on_data(self,data):\n",
    "        \n",
    "        tweet = json.loads(data)\n",
    "\n",
    "        created_at = tweet[\"created_at\"]\n",
    "        id_str = tweet[\"id_str\"]\n",
    "        text = tweet[\"text\"]\n",
    "        \n",
    "        user_id = tweet[\"user\"][\"id_str\"]\n",
    "        user_name = tweet[\"user\"][\"name\"]\n",
    "        screen_name = tweet[\"user\"][\"screen_name\"]\n",
    "        user_created_at = tweet[\"user\"][\"created_at\"]\n",
    "        \n",
    "        obj = {\n",
    "            \"message_created_at\":time.mktime(time.strptime( created_at,\"%a %b %d %H:%M:%S +0000 %Y\" )),\n",
    "            \"message_id\":id_str,\n",
    "            \"message_text\":text,\n",
    "            \"author_user_id\": user_id,\n",
    "            \"author_created_at\": time.mktime(time.strptime( user_created_at,\"%a %b %d %H:%M:%S +0000 %Y\" )),\n",
    "            \"author_user_name\": user_name,\n",
    "            \"author_screen_name\": screen_name\n",
    "        }\n",
    "        \n",
    "        #print('🐦', end='')\n",
    "\n",
    "        #insert line\n",
    "        \n",
    "        #Tweet limitation counter\n",
    "        self.counter += 1\n",
    "        if self.counter < self.limit:\n",
    "            return True\n",
    "        else:\n",
    "            return False\n",
    "        \n",
    "        return True\n",
    "    \n",
    "    def on_error(self, status):\n",
    "        print('error code: ', status)\n",
    "        return False"
   ]
  },
  {
   "cell_type": "markdown",
   "metadata": {},
   "source": [
    "### OAuth Implementation"
   ]
  },
  {
   "cell_type": "code",
   "execution_count": null,
   "metadata": {},
   "outputs": [],
   "source": [
    "from tweepy.streaming import StreamListener\n",
    "from tweepy.auth import OAuthHandler\n",
    "from tweepy import Stream\n",
    "\n",
    "auth = OAuthHandler(CONSUMER_KEY, CONSUMER_SECRET)\n",
    "auth.set_access_token(ACCESS_TOKEN, ACCESS_TOKEN_SECRET)"
   ]
  },
  {
   "cell_type": "markdown",
   "metadata": {},
   "source": [
    "### Initializing Stream"
   ]
  },
  {
   "cell_type": "code",
   "execution_count": null,
   "metadata": {},
   "outputs": [],
   "source": [
    "twitter_listener = TwitterListener()\n",
    "twitter_stream = Stream(auth, listener = twitter_listener)"
   ]
  },
  {
   "cell_type": "code",
   "execution_count": null,
   "metadata": {},
   "outputs": [],
   "source": [
    "print('Start stream')\n",
    "\n",
    "twitter_stream.filter(track = keywords, is_async = True)\n",
    "\n",
    "time.sleep(30)\n",
    "\n",
    "twitter_stream.disconnect()\n",
    "\n",
    "print('Close stream')"
   ]
  },
  {
   "cell_type": "markdown",
   "metadata": {},
   "source": [
    "### Saving to from MongoDB to .tsv file."
   ]
  },
  {
   "cell_type": "code",
   "execution_count": null,
   "metadata": {},
   "outputs": [],
   "source": [
    "import json\n",
    "import csv\n",
    "from bson.json_util import dumps\n",
    "\n",
    "with open('output.tsv', 'w') as output_file:\n",
    "    dw = csv.DictWriter(\n",
    "        output_file,\n",
    "        sorted( json_data[0].keys() ),\n",
    "        delimiter='\\t')\n",
    "    \n",
    "    dw.writeheader()\n",
    "    dw.writerows(json_values)"
   ]
  },
  {
   "cell_type": "code",
   "execution_count": null,
   "metadata": {},
   "outputs": [],
   "source": [
    "import pandas as pd\n",
    "\n",
    "single_obj = \"\"\"[{\n",
    "\"message_created_at\" : 1557088516,\n",
    "\"message_id\" : \"1125091606351183872\",\n",
    "\"message_text\" : \"RT @felipeneto: Justin Bieber postou um texto enaltecendo Chris Brown e dizendo q as pessoas devem parar de julgá-lo por “um erro”.\\n\\nEspanc…\",\n",
    "\"author_user_id\" : \"490564806\",\n",
    "\"author_created_at\" : 1329075905,\n",
    "\"author_user_name\" : \"Ni\",\n",
    "\"author_screen_name\" : \"nilove__\"\n",
    "}]\"\"\"\n",
    "\n",
    "df = pd.read_json(single_obj)\n",
    "df.head()\n"
   ]
  },
  {
   "cell_type": "code",
   "execution_count": null,
   "metadata": {},
   "outputs": [],
   "source": [
    "another_obj = \"\"\"[{\n",
    "\"message_created_at\" : 1557088519,\n",
    "\"message_id\" : \"1125091618921619456\",\n",
    "\"message_text\" : \"RT @alph_salazar: Justin Bieber sobre Chris Brown:\\n\\\"Dejaron de ver su talento por un error que cometió”.\\n\\nSu \\\"error\\\" fue desfigurarle la ca…\",\n",
    "\"author_user_id\" : \"1090341546061381632\",\n",
    "\"author_created_at\" : 1548799856,\n",
    "\"author_user_name\" : \"@fiore\",\n",
    "\"author_screen_name\" : \"fiore24327802\"\n",
    "}]\"\"\"\n",
    "\n",
    "df = pd.read_json(another_obj)\n",
    "df.head()\n",
    "\n"
   ]
  },
  {
   "cell_type": "code",
   "execution_count": null,
   "metadata": {},
   "outputs": [],
   "source": []
  }
 ],
 "metadata": {
  "kernelspec": {
   "display_name": "Python 3",
   "language": "python",
   "name": "python3"
  },
  "language_info": {
   "codemirror_mode": {
    "name": "ipython",
    "version": 3
   },
   "file_extension": ".py",
   "mimetype": "text/x-python",
   "name": "python",
   "nbconvert_exporter": "python",
   "pygments_lexer": "ipython3",
   "version": "3.7.1"
  }
 },
 "nbformat": 4,
 "nbformat_minor": 2
}
