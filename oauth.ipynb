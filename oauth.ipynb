{
 "cells": [
  {
   "cell_type": "code",
   "execution_count": 1,
   "metadata": {},
   "outputs": [],
   "source": [
    "#create module name pytweets, my own oAuth Twitter API handler"
   ]
  },
  {
   "cell_type": "markdown",
   "metadata": {},
   "source": [
    "# References:\n",
    "* https://oauth.net/\n",
    "* https://developer.twitter.com/en/docs/tutorials/consuming-streaming-data\n",
    "* https://developer.twitter.com/en/docs/basics/authentication/overview/application-only\n",
    "* https://tools.ietf.org/html/rfc6749#section-4.4\n",
    "* https://tools.ietf.org/html/rfc6749\n",
    "* https://developer.twitter.com/en/docs/basics/authentication/guides/single-user.html\n",
    "* https://developer.twitter.com/en/apps/\n",
    "* https://imasters.com.br/desenvolvimento/como-funciona-o-protocolo-oauth-2-0"
   ]
  },
  {
   "cell_type": "code",
   "execution_count": null,
   "metadata": {},
   "outputs": [],
   "source": []
  },
  {
   "cell_type": "code",
   "execution_count": null,
   "metadata": {},
   "outputs": [],
   "source": []
  },
  {
   "cell_type": "code",
   "execution_count": null,
   "metadata": {},
   "outputs": [],
   "source": []
  },
  {
   "cell_type": "code",
   "execution_count": null,
   "metadata": {},
   "outputs": [],
   "source": []
  },
  {
   "cell_type": "code",
   "execution_count": null,
   "metadata": {},
   "outputs": [],
   "source": []
  }
 ],
 "metadata": {
  "kernelspec": {
   "display_name": "Python 3",
   "language": "python",
   "name": "python3"
  },
  "language_info": {
   "codemirror_mode": {
    "name": "ipython",
    "version": 3
   },
   "file_extension": ".py",
   "mimetype": "text/x-python",
   "name": "python",
   "nbconvert_exporter": "python",
   "pygments_lexer": "ipython3",
   "version": "3.6.5"
  }
 },
 "nbformat": 4,
 "nbformat_minor": 2
}
