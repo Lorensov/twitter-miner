{
 "cells": [
  {
   "cell_type": "code",
   "execution_count": 1,
   "metadata": {},
   "outputs": [],
   "source": [
    "from tweepy.streaming import StreamListener\n",
    "from tweepy.auth import OAuthHandler\n",
    "from tweepy import Stream\n",
    "\n",
    "from datetime import datetime\n",
    "import json\n",
    "import time\n",
    "\n",
    "from pymongo import MongoClient\n",
    "import pymongo"
   ]
  },
  {
   "cell_type": "code",
   "execution_count": 2,
   "metadata": {},
   "outputs": [],
   "source": [
    "#pyenv\n",
    "import os\n",
    "from dotenv import load_dotenv\n",
    "load_dotenv()\n",
    "CONSUMER_KEY = os.environ.get('CONSUMER_KEY')\n",
    "CONSUMER_SECRET = os.environ.get('CONSUMER_SECRET')\n",
    "ACCESS_TOKEN = os.environ.get('ACCESS_TOKEN')\n",
    "ACCESS_TOKEN_SECRET = os.environ.get('ACCESS_TOKEN_SECRET')"
   ]
  },
  {
   "cell_type": "code",
   "execution_count": 3,
   "metadata": {},
   "outputs": [],
   "source": [
    "auth = OAuthHandler(CONSUMER_KEY, CONSUMER_SECRET)\n",
    "auth.set_access_token(ACCESS_TOKEN, ACCESS_TOKEN_SECRET)\n",
    "#api = tweepy.API(auth)\n",
    "#api.update_status('tweepy + oauth!')"
   ]
  },
  {
   "cell_type": "code",
   "execution_count": 4,
   "metadata": {},
   "outputs": [],
   "source": [
    "client = MongoClient('localhost', 27017)\n",
    "db = client.twitterdb\n",
    "col = db.tweets\n",
    "raw_col = db.raw_data\n",
    "keywords = ['bieber']"
   ]
  },
  {
   "cell_type": "code",
   "execution_count": 5,
   "metadata": {},
   "outputs": [],
   "source": [
    "import threading\n",
    "import time\n",
    "import sys\n",
    "import os\n",
    "# Define a function for the thread\n",
    "def count_time( threadName, delay, limit):\n",
    "    count = 0\n",
    "    while count < limit:\n",
    "        time.sleep(delay)\n",
    "        count += 1\n",
    "        print (\"%s: %s\" % ( threadName, time.ctime(time.time()) )  )\n",
    "    print('finished ', threadName)\n",
    "    #os._exit(0)"
   ]
  },
  {
   "cell_type": "code",
   "execution_count": 6,
   "metadata": {},
   "outputs": [],
   "source": [
    "class MyListener(StreamListener):\n",
    "    def __init__(self):\n",
    "        super().__init__()\n",
    "        self.counter = 0\n",
    "        self.limit = 100\n",
    "        \n",
    "        #threading.Thread(target = count_time,\n",
    "            #args= (\"Time Counter\", 1, 5)\n",
    "        #).start()\n",
    "        \n",
    "    def on_data(self,data):\n",
    "        \n",
    "        tweet = json.loads(data)\n",
    "\n",
    "        created_at = tweet[\"created_at\"]\n",
    "        id_str = tweet[\"id_str\"]\n",
    "        text = tweet[\"text\"]\n",
    "        \n",
    "        user_id = tweet[\"user\"][\"id_str\"]\n",
    "        user_name = tweet[\"user\"][\"name\"]\n",
    "        screen_name = tweet[\"user\"][\"screen_name\"]\n",
    "        user_created_at = tweet[\"user\"][\"created_at\"]\n",
    "        \n",
    "        obj = {\n",
    "            \"message_created_at\":time.mktime(time.strptime( created_at,\"%a %b %d %H:%M:%S +0000 %Y\" )),\n",
    "            \"message_id\":id_str,\n",
    "            \"message_text\":text,\n",
    "            \"author_user_id\": user_id,\n",
    "            \"author_created_at\": time.mktime(time.strptime( user_created_at,\"%a %b %d %H:%M:%S +0000 %Y\" )),\n",
    "            \"author_user_name\": user_name,\n",
    "            \"author_screen_name\": screen_name\n",
    "        }\n",
    "        \n",
    "        print('🐦', end='')\n",
    "\n",
    "        tweetind = col.insert_one(obj).inserted_id\n",
    "\n",
    "        tweetind_2 = raw_col.insert_one( json.loads(json.dumps(tweet)) ).inserted_id\n",
    "        \n",
    "        \"\"\" #Tweet limitation counter\n",
    "        self.counter += 1\n",
    "        if self.counter < self.limit:\n",
    "            return True\n",
    "        else:\n",
    "            return False\n",
    "        \"\"\" \n",
    "        \n",
    "        return True\n",
    "    \n",
    "    def on_error(self, status):\n",
    "        print(status)\n",
    "        return False"
   ]
  },
  {
   "cell_type": "code",
   "execution_count": 7,
   "metadata": {},
   "outputs": [],
   "source": [
    "mylistener = MyListener()\n",
    "mystream = Stream(auth, listener = mylistener)"
   ]
  },
  {
   "cell_type": "code",
   "execution_count": 8,
   "metadata": {},
   "outputs": [
    {
     "name": "stdout",
     "output_type": "stream",
     "text": [
      "start stream\n",
      "Time Counter: Sun May  5 15:06:21 2019\n",
      "🐦🐦🐦🐦🐦🐦Time Counter: Sun May  5 15:06:22 2019\n",
      "🐦🐦🐦🐦🐦🐦close stream\n",
      "Time Counter: Sun May  5 15:06:23 2019\n",
      "Time Counter: Sun May  5 15:06:24 2019\n",
      "Time Counter: Sun May  5 15:06:25 2019\n",
      "finished  Time Counter\n"
     ]
    }
   ],
   "source": [
    "print('start stream')\n",
    "#mystream.filter(track=keywords)\n",
    "mystream.filter(track = keywords, is_async = True)\n",
    "#mystream.filter(track = keywords, async = True)\n",
    "\n",
    "time.sleep(30)\n",
    "\n",
    "mystream.disconnect()\n",
    "\n",
    "print('close stream')"
   ]
  },
  {
   "cell_type": "code",
   "execution_count": null,
   "metadata": {},
   "outputs": [],
   "source": [
    "all_values = col.find().sort([(\"message_created_at\",pymongo.ASCENDING), (\"author_created_at\",pymongo.ASCENDING)])\n",
    "\n",
    "for x in all_values:\n",
    "    print(x)"
   ]
  },
  {
   "cell_type": "code",
   "execution_count": null,
   "metadata": {},
   "outputs": [],
   "source": [
    "import json\n",
    "import csv\n",
    "from bson.json_util import dumps\n",
    "\n",
    "json_values = json.loads(dumps( col.find().sort([(\"message_created_at\",pymongo.ASCENDING), (\"author_created_at\",pymongo.ASCENDING)]) ))\n",
    "\n",
    "with open('output.tsv', 'w') as output_file:\n",
    "    dw = csv.DictWriter(output_file, sorted( json_values[0].keys() ), delimiter='\\t')\n",
    "    dw.writeheader()\n",
    "    dw.writerows(json_values)"
   ]
  },
  {
   "cell_type": "code",
   "execution_count": null,
   "metadata": {},
   "outputs": [],
   "source": []
  },
  {
   "cell_type": "code",
   "execution_count": null,
   "metadata": {},
   "outputs": [],
   "source": []
  },
  {
   "cell_type": "code",
   "execution_count": null,
   "metadata": {},
   "outputs": [],
   "source": []
  },
  {
   "cell_type": "code",
   "execution_count": null,
   "metadata": {},
   "outputs": [],
   "source": []
  },
  {
   "cell_type": "code",
   "execution_count": null,
   "metadata": {},
   "outputs": [],
   "source": []
  },
  {
   "cell_type": "code",
   "execution_count": null,
   "metadata": {},
   "outputs": [],
   "source": []
  },
  {
   "cell_type": "code",
   "execution_count": null,
   "metadata": {},
   "outputs": [],
   "source": [
    "class LimitedListener(StreamListener):\n",
    "\n",
    "    def __init__(self):\n",
    "        super().__init__()\n",
    "        self.counter = 0\n",
    "        self.limit = 10\n",
    "\n",
    "    def on_status(self, status):\n",
    "        try:\n",
    "            userid = status.user.id_str\n",
    "            geo = str(status.coordinates)\n",
    "            if geo != \"None\":\n",
    "                print(userid + ',' + geo)\n",
    "            else:\n",
    "                print(\"No coordinates\")\n",
    "            self.counter += 1\n",
    "            if self.counter < self.limit:\n",
    "                return True\n",
    "            else:\n",
    "                twitterStream.disconnect()\n",
    "        except BaseException as e:\n",
    "            print('failed on_status,',str(e))\n",
    "            time.sleep(5)"
   ]
  },
  {
   "cell_type": "code",
   "execution_count": null,
   "metadata": {},
   "outputs": [],
   "source": [
    "limited_listener = LimitedListener()\n",
    "limited_stream = Stream(auth, listener = limited_listener)\n",
    "print('inicia limited stream')\n",
    "limited_stream.filter(track=keywords)\n",
    "print('fecha limited stream')"
   ]
  }
 ],
 "metadata": {
  "kernelspec": {
   "display_name": "Python 3",
   "language": "python",
   "name": "python3"
  },
  "language_info": {
   "codemirror_mode": {
    "name": "ipython",
    "version": 3
   },
   "file_extension": ".py",
   "mimetype": "text/x-python",
   "name": "python",
   "nbconvert_exporter": "python",
   "pygments_lexer": "ipython3",
   "version": "3.7.1"
  }
 },
 "nbformat": 4,
 "nbformat_minor": 2
}
