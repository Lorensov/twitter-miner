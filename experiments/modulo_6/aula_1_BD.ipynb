{
 "cells": [
  {
   "cell_type": "code",
   "execution_count": 1,
   "metadata": {
    "collapsed": true
   },
   "outputs": [],
   "source": [
    "import sqlite3"
   ]
  },
  {
   "cell_type": "code",
   "execution_count": 2,
   "metadata": {
    "collapsed": true
   },
   "outputs": [],
   "source": [
    "con = sqlite3.connect('escola.db')"
   ]
  },
  {
   "cell_type": "code",
   "execution_count": 3,
   "metadata": {},
   "outputs": [
    {
     "data": {
      "text/plain": [
       "sqlite3.Connection"
      ]
     },
     "execution_count": 3,
     "metadata": {},
     "output_type": "execute_result"
    }
   ],
   "source": [
    "type(con)"
   ]
  },
  {
   "cell_type": "code",
   "execution_count": 4,
   "metadata": {
    "collapsed": true
   },
   "outputs": [],
   "source": [
    "cur = con.cursor()"
   ]
  },
  {
   "cell_type": "code",
   "execution_count": 5,
   "metadata": {},
   "outputs": [
    {
     "data": {
      "text/plain": [
       "sqlite3.Cursor"
      ]
     },
     "execution_count": 5,
     "metadata": {},
     "output_type": "execute_result"
    }
   ],
   "source": [
    "type (cur)\n"
   ]
  },
  {
   "cell_type": "code",
   "execution_count": 12,
   "metadata": {
    "collapsed": true
   },
   "outputs": [],
   "source": [
    "sql_create = 'create table cursos'\\\n",
    "'(id integer primary key,'\\\n",
    "'titulo varchar(100),'\\\n",
    "'categoria varchar(140) )'"
   ]
  },
  {
   "cell_type": "code",
   "execution_count": 13,
   "metadata": {},
   "outputs": [
    {
     "data": {
      "text/plain": [
       "<sqlite3.Cursor at 0x57f8ea0>"
      ]
     },
     "execution_count": 13,
     "metadata": {},
     "output_type": "execute_result"
    }
   ],
   "source": [
    "cur.execute(sql_create)"
   ]
  },
  {
   "cell_type": "code",
   "execution_count": 14,
   "metadata": {
    "collapsed": true
   },
   "outputs": [],
   "source": [
    "sql_insert = 'insert into cursos values (? , ?, ?)'"
   ]
  },
  {
   "cell_type": "code",
   "execution_count": 15,
   "metadata": {
    "collapsed": true
   },
   "outputs": [],
   "source": [
    "recset = [(1000, 'Ciencia de Dados', 'Datas Science'),\n",
    "          (1001, 'Big Data Fundamentos','Big Data'),\n",
    "          (1002, 'Python Fundamentos', 'Analise de Dados')]"
   ]
  },
  {
   "cell_type": "code",
   "execution_count": 16,
   "metadata": {
    "collapsed": true
   },
   "outputs": [],
   "source": [
    "for rec in recset:\n",
    "    cur.execute(sql_insert, rec)"
   ]
  },
  {
   "cell_type": "code",
   "execution_count": 17,
   "metadata": {
    "collapsed": true
   },
   "outputs": [],
   "source": [
    "con.commit()"
   ]
  },
  {
   "cell_type": "code",
   "execution_count": 18,
   "metadata": {
    "collapsed": true
   },
   "outputs": [],
   "source": [
    "sql_select = 'select * from cursos'"
   ]
  },
  {
   "cell_type": "code",
   "execution_count": 19,
   "metadata": {},
   "outputs": [
    {
     "data": {
      "text/plain": [
       "<sqlite3.Cursor at 0x57f8ea0>"
      ]
     },
     "execution_count": 19,
     "metadata": {},
     "output_type": "execute_result"
    }
   ],
   "source": [
    "cur.execute(sql_select)"
   ]
  },
  {
   "cell_type": "code",
   "execution_count": 20,
   "metadata": {
    "collapsed": true
   },
   "outputs": [],
   "source": [
    "dados = cur.fetchall()"
   ]
  },
  {
   "cell_type": "code",
   "execution_count": 21,
   "metadata": {},
   "outputs": [
    {
     "name": "stdout",
     "output_type": "stream",
     "text": [
      "[(1000, 'Ciencia de Dados', 'Datas Science'), (1001, 'Big Data Fundamentos', 'Big Data'), (1002, 'Python Fundamentos', 'Analise de Dados')]\n"
     ]
    }
   ],
   "source": [
    "print(dados     )"
   ]
  },
  {
   "cell_type": "code",
   "execution_count": 22,
   "metadata": {},
   "outputs": [
    {
     "name": "stdout",
     "output_type": "stream",
     "text": [
      "(1000, 'Ciencia de Dados', 'Datas Science')\n",
      "(1001, 'Big Data Fundamentos', 'Big Data')\n",
      "(1002, 'Python Fundamentos', 'Analise de Dados')\n"
     ]
    }
   ],
   "source": [
    "for linha in dados:\n",
    "    print(linha)"
   ]
  },
  {
   "cell_type": "code",
   "execution_count": 23,
   "metadata": {},
   "outputs": [
    {
     "name": "stdout",
     "output_type": "stream",
     "text": [
      "Curso ID: 1000, Titulo: Ciencia de Dados, Categoria: Datas Science \n",
      " \n",
      "Curso ID: 1001, Titulo: Big Data Fundamentos, Categoria: Big Data \n",
      " \n",
      "Curso ID: 1002, Titulo: Python Fundamentos, Categoria: Analise de Dados \n",
      " \n"
     ]
    }
   ],
   "source": [
    "for linha in dados:\n",
    "    print('Curso ID: %d, Titulo: %s, Categoria: %s \\n ' %linha)"
   ]
  },
  {
   "cell_type": "code",
   "execution_count": 25,
   "metadata": {},
   "outputs": [],
   "source": [
    "recset = [(1003, 'Gestao de Dados com MongoDB', 'Big Data'),\n",
    "          (1004, 'R Fundamentos', 'Analise de Dados')]\n",
    "\n",
    "for rec in recset:\n",
    "    cur.execute(sql_insert, rec)\n",
    "\n",
    "con.commit()"
   ]
  },
  {
   "cell_type": "code",
   "execution_count": 26,
   "metadata": {},
   "outputs": [
    {
     "name": "stdout",
     "output_type": "stream",
     "text": [
      "Curso ID: 1000, Titulo: Ciencia de Dados, Categoria: Datas Science \n",
      " \n",
      "Curso ID: 1001, Titulo: Big Data Fundamentos, Categoria: Big Data \n",
      " \n",
      "Curso ID: 1002, Titulo: Python Fundamentos, Categoria: Analise de Dados \n",
      " \n",
      "Curso ID: 1003, Titulo: Gestao de Dados com MongoDB, Categoria: Big Data \n",
      " \n",
      "Curso ID: 1004, Titulo: R Fundamentos, Categoria: Analise de Dados \n",
      " \n"
     ]
    }
   ],
   "source": [
    "cur. execute('select * from cursos')\n",
    "\n",
    "recset = cur.fetchall()\n",
    "\n",
    "for rec in recset:\n",
    "       print('Curso ID: %d, Titulo: %s, Categoria: %s \\n ' %rec)"
   ]
  },
  {
   "cell_type": "code",
   "execution_count": 27,
   "metadata": {
    "collapsed": true
   },
   "outputs": [],
   "source": [
    "con.close()"
   ]
  },
  {
   "cell_type": "code",
   "execution_count": null,
   "metadata": {
    "collapsed": true
   },
   "outputs": [],
   "source": []
  }
 ],
 "metadata": {
  "kernelspec": {
   "display_name": "Python 3",
   "language": "python",
   "name": "python3"
  },
  "language_info": {
   "codemirror_mode": {
    "name": "ipython",
    "version": 3
   },
   "file_extension": ".py",
   "mimetype": "text/x-python",
   "name": "python",
   "nbconvert_exporter": "python",
   "pygments_lexer": "ipython3",
   "version": "3.6.3"
  }
 },
 "nbformat": 4,
 "nbformat_minor": 2
}
