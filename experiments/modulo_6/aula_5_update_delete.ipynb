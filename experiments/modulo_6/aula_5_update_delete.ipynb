{
 "cells": [
  {
   "cell_type": "code",
   "execution_count": 32,
   "metadata": {
    "collapsed": true
   },
   "outputs": [],
   "source": [
    "import sqlite3\n",
    "import random\n",
    "import time\n",
    "import datetime\n",
    "\n",
    "conn = sqlite3.connect('dsa.db')\n",
    "\n",
    "c = conn.cursor()\n",
    "\n",
    "def create_table():\n",
    "    c.execute('CREATE TABLE IF NOT EXISTS produtos (id INTEGER PRIMARY KEY AUTOINCREMENT NOT NULL, date TEXT, ' \\\n",
    "             'prod_name TEXT, valor REAL)')\n",
    "    \n",
    "def data_insert():\n",
    "    c.execute (\"INSERT INTO produtos VALUES (10, '2016=05=02 14:32:11', 'Teclado', 90)\")\n",
    "    conn.commit()\n",
    "    c.close()\n",
    "    conn.close()\n",
    "    \n",
    "def data_insert_var():\n",
    "    new_date = datetime.datetime.now()\n",
    "    new_prod_name = 'Monitor'\n",
    "    new_valor = random.randrange(50,100)\n",
    "    c.execute(\"INSERT INTO produtos (date, prod_name, valor) VALUES (?,?,?)\",\n",
    "              (new_date, new_prod_name, new_valor))\n",
    "    conn.commit()\n",
    "    \n",
    "def leitura_todos_dados():\n",
    "    c.execute(\"SELECT * FROM PRODUTOS\")\n",
    "    for linha in c.fetchall():\n",
    "        print(linha)\n",
    "\n",
    "def leitura_registros():\n",
    "    c.execute(\"SELECT * FROM PRODUTOS WHERE valor > 60.0\")\n",
    "    for linha in c.fetchall():\n",
    "        print(linha)\n",
    "        \n",
    "def leitura_colunas():\n",
    "    c.execute(\"SELECT * FROM PRODUTOS\")\n",
    "    for linha in c.fetchall():\n",
    "        print(linha[3])\n",
    "        \n",
    "        \n",
    "def atualiza_dados():\n",
    "    c.execute(\"UPDATE produtos SET valor = 69.0 WHERE valor = 55.0\")\n",
    "    conn.commit()\n",
    "    \n",
    "def remove_dados():\n",
    "    c.execute(\"DELETE FROM produtos WHERE valor = 77.0\")\n",
    "    conn.commit()"
   ]
  },
  {
   "cell_type": "code",
   "execution_count": 29,
   "metadata": {},
   "outputs": [
    {
     "name": "stdout",
     "output_type": "stream",
     "text": [
      "(10, '2016=05=02 14:32:11', 'Teclado', 90.0)\n",
      "(11, '2017-12-11 21:37:32.409379', 'Monitor', 55.0)\n",
      "(12, '2017-12-11 21:37:33.426438', 'Monitor', 81.0)\n",
      "(13, '2017-12-11 21:37:34.441496', 'Monitor', 69.0)\n",
      "(14, '2017-12-11 21:37:35.537558', 'Monitor', 58.0)\n",
      "(15, '2017-12-11 21:37:36.557617', 'Monitor', 51.0)\n",
      "(16, '2017-12-11 21:37:37.571675', 'Monitor', 86.0)\n",
      "(17, '2017-12-11 21:37:38.668737', 'Monitor', 68.0)\n",
      "(18, '2017-12-11 21:37:39.769800', 'Monitor', 62.0)\n",
      "(19, '2017-12-11 21:37:40.783858', 'Monitor', 64.0)\n",
      "(20, '2017-12-11 21:37:41.796916', 'Monitor', 77.0)\n"
     ]
    }
   ],
   "source": [
    "leitura_todos_dados()"
   ]
  },
  {
   "cell_type": "code",
   "execution_count": 30,
   "metadata": {
    "collapsed": true
   },
   "outputs": [],
   "source": [
    "atualiza_dados()"
   ]
  },
  {
   "cell_type": "code",
   "execution_count": 31,
   "metadata": {},
   "outputs": [
    {
     "name": "stdout",
     "output_type": "stream",
     "text": [
      "(10, '2016=05=02 14:32:11', 'Teclado', 90.0)\n",
      "(11, '2017-12-11 21:37:32.409379', 'Monitor', 69.0)\n",
      "(12, '2017-12-11 21:37:33.426438', 'Monitor', 81.0)\n",
      "(13, '2017-12-11 21:37:34.441496', 'Monitor', 69.0)\n",
      "(14, '2017-12-11 21:37:35.537558', 'Monitor', 58.0)\n",
      "(15, '2017-12-11 21:37:36.557617', 'Monitor', 51.0)\n",
      "(16, '2017-12-11 21:37:37.571675', 'Monitor', 86.0)\n",
      "(17, '2017-12-11 21:37:38.668737', 'Monitor', 68.0)\n",
      "(18, '2017-12-11 21:37:39.769800', 'Monitor', 62.0)\n",
      "(19, '2017-12-11 21:37:40.783858', 'Monitor', 64.0)\n",
      "(20, '2017-12-11 21:37:41.796916', 'Monitor', 77.0)\n"
     ]
    }
   ],
   "source": [
    "leitura_todos_dados()"
   ]
  },
  {
   "cell_type": "code",
   "execution_count": 33,
   "metadata": {
    "collapsed": true
   },
   "outputs": [],
   "source": [
    "remove_dados()"
   ]
  },
  {
   "cell_type": "code",
   "execution_count": 34,
   "metadata": {},
   "outputs": [
    {
     "name": "stdout",
     "output_type": "stream",
     "text": [
      "(10, '2016=05=02 14:32:11', 'Teclado', 90.0)\n",
      "(11, '2017-12-11 21:37:32.409379', 'Monitor', 69.0)\n",
      "(12, '2017-12-11 21:37:33.426438', 'Monitor', 81.0)\n",
      "(13, '2017-12-11 21:37:34.441496', 'Monitor', 69.0)\n",
      "(14, '2017-12-11 21:37:35.537558', 'Monitor', 58.0)\n",
      "(15, '2017-12-11 21:37:36.557617', 'Monitor', 51.0)\n",
      "(16, '2017-12-11 21:37:37.571675', 'Monitor', 86.0)\n",
      "(17, '2017-12-11 21:37:38.668737', 'Monitor', 68.0)\n",
      "(18, '2017-12-11 21:37:39.769800', 'Monitor', 62.0)\n",
      "(19, '2017-12-11 21:37:40.783858', 'Monitor', 64.0)\n"
     ]
    }
   ],
   "source": [
    "leitura_todos_dados()"
   ]
  },
  {
   "cell_type": "code",
   "execution_count": null,
   "metadata": {
    "collapsed": true
   },
   "outputs": [],
   "source": []
  }
 ],
 "metadata": {
  "kernelspec": {
   "display_name": "Python 3",
   "language": "python",
   "name": "python3"
  },
  "language_info": {
   "codemirror_mode": {
    "name": "ipython",
    "version": 3
   },
   "file_extension": ".py",
   "mimetype": "text/x-python",
   "name": "python",
   "nbconvert_exporter": "python",
   "pygments_lexer": "ipython3",
   "version": "3.6.3"
  }
 },
 "nbformat": 4,
 "nbformat_minor": 2
}
